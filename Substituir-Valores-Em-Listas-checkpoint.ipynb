{
 "cells": [
  {
   "cell_type": "code",
   "execution_count": 1,
   "id": "8b6bfab2-22d9-4a36-b445-22ff5dfa15e2",
   "metadata": {},
   "outputs": [
    {
     "name": "stdout",
     "output_type": "stream",
     "text": [
      "['Morango', 'Caju', 'Pitanga', 'Pêcego', 'Maçã', 'Caju', 'Cajá', 'Pêcego', 'Morango', 'Uva', 'Laranja', 'Limão']\n"
     ]
    }
   ],
   "source": [
    "# Criar a lista de sucos de frutas vendidos...\n",
    "sucos = [\"Morango\", \"Caju\", \"Pitanga\", \"Pêcego\", \"Maçã\", \"Caju\", \"Cajá\", \"Pêcego\", \"Morango\", \"Uva\", \"Laranja\", \"Limão\"]\n",
    "\n",
    "# Verificar o conteúdo do lista...\n",
    "print(sucos)"
   ]
  },
  {
   "cell_type": "code",
   "execution_count": 9,
   "id": "6fc3bed8-e4aa-4897-bf56-9681579def4b",
   "metadata": {},
   "outputs": [
    {
     "name": "stdout",
     "output_type": "stream",
     "text": [
      "['Morango', 'Caju', 'Pitanga', 'Pêssego', 'Maçã', 'Caju', 'Cajá', 'Pêcego', 'Morango', 'Uva', 'Laranja', 'Limão']\n"
     ]
    }
   ],
   "source": [
    "# Obter o indice da primeira ocorrência da palavra....\n",
    "indice = sucos.index(\"Pêcego\")\n",
    "\n",
    "# Atualizar o item presente na posição de índice encontrado...\n",
    "sucos[indice] = \"Pêssego\"\n",
    "\n",
    "# Mostrar o resultado....\n",
    "print(sucos)"
   ]
  },
  {
   "cell_type": "code",
   "execution_count": 17,
   "id": "1201d5c6-4f34-4aaa-93fa-99767509126e",
   "metadata": {},
   "outputs": [
    {
     "name": "stdout",
     "output_type": "stream",
     "text": [
      "['Morango', 'Caju', 'Pitanga', 'Pêssego', 'Maçã', 'Caju', 'Cajá', 'Pêssego', 'Morango', 'Uva', 'Laranja', 'Limão']\n"
     ]
    }
   ],
   "source": [
    "# Usando laço de repetição while....\n",
    "while \"Pêcego\" in sucos:\n",
    "    indice = sucos.index(\"Pêcego\")\n",
    "    sucos[indice] = \"Pêssego\"\n",
    "\n",
    "print(sucos)"
   ]
  },
  {
   "cell_type": "code",
   "execution_count": 21,
   "id": "17dec28f-dbf4-4c3a-aed3-03d560755a42",
   "metadata": {},
   "outputs": [
    {
     "name": "stdout",
     "output_type": "stream",
     "text": [
      "['Morango', 'Caju', 'Pitanga', 'Pêssego', 'Maçã', 'Caju', 'Cajá', 'Pêssego', 'Morango', 'Uva', 'Laranja', 'Limão']\n"
     ]
    }
   ],
   "source": [
    "# Resolver com enumerate....\n",
    "for indice, frutas in enumerate(sucos):\n",
    "    if (frutas == \"Pêcego\"):\n",
    "        sucos[indices] = \"Pêssego\"\n",
    "\n",
    "print(sucos)"
   ]
  },
  {
   "cell_type": "code",
   "execution_count": null,
   "id": "c383cc35-3d7c-4e9a-9a66-0c7758910816",
   "metadata": {},
   "outputs": [],
   "source": [
    "# O que retorna exatamente a função enumerate ?\n",
    "for indice, frutas "
   ]
  }
 ],
 "metadata": {
  "kernelspec": {
   "display_name": "Python 3 (ipykernel)",
   "language": "python",
   "name": "python3"
  },
  "language_info": {
   "codemirror_mode": {
    "name": "ipython",
    "version": 3
   },
   "file_extension": ".py",
   "mimetype": "text/x-python",
   "name": "python",
   "nbconvert_exporter": "python",
   "pygments_lexer": "ipython3",
   "version": "3.12.7"
  }
 },
 "nbformat": 4,
 "nbformat_minor": 5
}
