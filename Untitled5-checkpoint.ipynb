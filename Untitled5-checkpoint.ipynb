{
 "cells": [
  {
   "cell_type": "code",
   "execution_count": 8,
   "id": "4116cf31-d9f0-4b1f-83fe-6553baf2f4b4",
   "metadata": {},
   "outputs": [
    {
     "name": "stdout",
     "output_type": "stream",
     "text": [
      "Pet\n",
      "Pet\n",
      "Kiki\n",
      "Cookie\n"
     ]
    }
   ],
   "source": [
    "# Variaveis de classes e de Instância\n",
    "\n",
    "class Gato:\n",
    "    tipo_animal = \"Felino\"\n",
    "\n",
    "    def __init__(self, nome):\n",
    "        self.nome = nome\n",
    "\n",
    "Gato.tipo_animal = \"Pet\"\n",
    "\n",
    "g1 = Gato('Kiki')\n",
    "g2 = Gato('Cookie')\n",
    "\n",
    "print(g1.tipo_animal)\n",
    "print(g2.tipo_animal)\n",
    "\n",
    "print(g1.nome)\n",
    "print(g2.nome)"
   ]
  },
  {
   "cell_type": "code",
   "execution_count": null,
   "id": "da5b8241-d1a5-4657-8118-4c13fe61398e",
   "metadata": {},
   "outputs": [],
   "source": []
  }
 ],
 "metadata": {
  "kernelspec": {
   "display_name": "Python 3 (ipykernel)",
   "language": "python",
   "name": "python3"
  },
  "language_info": {
   "codemirror_mode": {
    "name": "ipython",
    "version": 3
   },
   "file_extension": ".py",
   "mimetype": "text/x-python",
   "name": "python",
   "nbconvert_exporter": "python",
   "pygments_lexer": "ipython3",
   "version": "3.12.7"
  }
 },
 "nbformat": 4,
 "nbformat_minor": 5
}
