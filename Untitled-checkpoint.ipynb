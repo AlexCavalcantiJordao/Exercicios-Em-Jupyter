{
 "cells": [
  {
   "cell_type": "code",
   "execution_count": 5,
   "id": "6f6560cc-7003-4c88-bb55-4a165e8234a1",
   "metadata": {},
   "outputs": [
    {
     "name": "stdout",
     "output_type": "stream",
     "text": [
      "5\n",
      "int32\n",
      "3\n"
     ]
    }
   ],
   "source": [
    "import numpy as np\n",
    "\n",
    "números = np.array([2, 6, 7, 9, 0, 1, 2, 3, 4, 5])\n",
    "\n",
    "print(números[-1])\n",
    "print(números.dtype)\n",
    "\n",
    "números[0] = 3\n",
    "print(números[0])"
   ]
  },
  {
   "cell_type": "code",
   "execution_count": 11,
   "id": "eb51dea4-4462-486d-89b3-794e0fc8d550",
   "metadata": {},
   "outputs": [
    {
     "name": "stdout",
     "output_type": "stream",
     "text": [
      "[[1 3 5]\n",
      " [2 4 6]\n",
      " [2 5 7]]\n"
     ]
    }
   ],
   "source": [
    "# Array bidimensional com NumPy\n",
    "\n",
    "M = np.array([[1, 3, 5], [2, 4, 6], [2, 5, 7]])\n",
    "print(M)"
   ]
  },
  {
   "cell_type": "code",
   "execution_count": 15,
   "id": "52e8e303-6526-4074-a270-0b4d45f43b7a",
   "metadata": {},
   "outputs": [
    {
     "name": "stdout",
     "output_type": "stream",
     "text": [
      "7\n"
     ]
    }
   ],
   "source": [
    "M [0, 1] = 7\n",
    "print(M[0, 1])"
   ]
  },
  {
   "cell_type": "code",
   "execution_count": 21,
   "id": "df3f345f-461f-4404-b8d3-94e8dd498d18",
   "metadata": {},
   "outputs": [
    {
     "name": "stdout",
     "output_type": "stream",
     "text": [
      "[[1 7 5]\n",
      " [2 4 6]\n",
      " [2 5 7]]\n"
     ]
    }
   ],
   "source": [
    "print(M)"
   ]
  },
  {
   "cell_type": "code",
   "execution_count": 25,
   "id": "89133295-581d-4a29-8ed1-8cbabea8872c",
   "metadata": {},
   "outputs": [
    {
     "name": "stdout",
     "output_type": "stream",
     "text": [
      "Primeira coluna:  [1 2 2]\n",
      "Segunda Coluna:  [7 4 5]\n"
     ]
    }
   ],
   "source": [
    "# Visualizar uma coluna inteira....\n",
    "print(\"Primeira coluna: \", M[:, 0])\n",
    "print(\"Segunda Coluna: \", M[:, 1])"
   ]
  },
  {
   "cell_type": "code",
   "execution_count": 27,
   "id": "f7ca7913-56d2-47ae-a589-56db2ef9d393",
   "metadata": {},
   "outputs": [
    {
     "name": "stdout",
     "output_type": "stream",
     "text": [
      "Segunda linha:  [2 4 6]\n"
     ]
    }
   ],
   "source": [
    "# Visualizar linha inteira....\n",
    "print(\"Segunda linha: \", M[1, :])"
   ]
  },
  {
   "cell_type": "code",
   "execution_count": null,
   "id": "f5283803-e043-475a-8022-59c93cd4133f",
   "metadata": {},
   "outputs": [],
   "source": []
  }
 ],
 "metadata": {
  "kernelspec": {
   "display_name": "Python 3 (ipykernel)",
   "language": "python",
   "name": "python3"
  },
  "language_info": {
   "codemirror_mode": {
    "name": "ipython",
    "version": 3
   },
   "file_extension": ".py",
   "mimetype": "text/x-python",
   "name": "python",
   "nbconvert_exporter": "python",
   "pygments_lexer": "ipython3",
   "version": "3.12.7"
  }
 },
 "nbformat": 4,
 "nbformat_minor": 5
}
