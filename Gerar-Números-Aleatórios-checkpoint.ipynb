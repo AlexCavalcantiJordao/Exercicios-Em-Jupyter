{
 "cells": [
  {
   "cell_type": "code",
   "execution_count": 2,
   "id": "1739ebb8-b2ea-4c5b-8c2f-affa10a3693c",
   "metadata": {},
   "outputs": [
    {
     "name": "stdout",
     "output_type": "stream",
     "text": [
      "[0.63316468 1.01054572 6.37813022 1.85020462 3.05699724 6.27638371\n",
      " 7.91693367 3.49394408 9.83068788 1.64159907]\n"
     ]
    }
   ],
   "source": [
    "import numpy as np\n",
    "\n",
    "print(np.random.rand(10)*10)"
   ]
  },
  {
   "cell_type": "code",
   "execution_count": 6,
   "id": "be3f4e87-c020-422e-8dcf-bde1bae75e51",
   "metadata": {},
   "outputs": [
    {
     "name": "stdout",
     "output_type": "stream",
     "text": [
      "[5 5 0 2 1]\n"
     ]
    }
   ],
   "source": [
    "print(np.random.randint(0, 10, 5))"
   ]
  },
  {
   "cell_type": "code",
   "execution_count": 19,
   "id": "6731c228-c7f7-43e6-91dc-b37ef3f2d05e",
   "metadata": {},
   "outputs": [
    {
     "name": "stdout",
     "output_type": "stream",
     "text": [
      "[5 0 5]\n"
     ]
    }
   ],
   "source": [
    "lista = [0, 1, 2, 3, 4, 5]\n",
    "\n",
    "print(np.random.choice(lista, 3, replace = True))"
   ]
  },
  {
   "cell_type": "code",
   "execution_count": null,
   "id": "f059509c-5371-4e79-a83f-a9e9d3616add",
   "metadata": {},
   "outputs": [],
   "source": []
  },
  {
   "cell_type": "code",
   "execution_count": null,
   "id": "a3325306-51c8-4e9c-bb49-c9f5056dffcf",
   "metadata": {},
   "outputs": [],
   "source": []
  }
 ],
 "metadata": {
  "kernelspec": {
   "display_name": "Python 3 (ipykernel)",
   "language": "python",
   "name": "python3"
  },
  "language_info": {
   "codemirror_mode": {
    "name": "ipython",
    "version": 3
   },
   "file_extension": ".py",
   "mimetype": "text/x-python",
   "name": "python",
   "nbconvert_exporter": "python",
   "pygments_lexer": "ipython3",
   "version": "3.12.7"
  }
 },
 "nbformat": 4,
 "nbformat_minor": 5
}
