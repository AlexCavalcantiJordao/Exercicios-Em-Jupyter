{
 "cells": [
  {
   "cell_type": "code",
   "execution_count": null,
   "id": "1b381ce8-fc44-41d7-98b9-8b77089df182",
   "metadata": {},
   "outputs": [],
   "source": [
    "# Janela com Tkinter\n",
    "\n",
    "import tkinter as tk\n",
    "\n",
    "janela = tk.Tk()\n",
    "janela.title(\"Janela Principal.\")\n",
    "janela.geometry(\"500x400+200+100\")\n",
    "janela.config(bg=\"lightblue\")\n",
    "\n",
    "#janela.maxsize(800,600)\n",
    "#janela.ninsize(300,200)\n",
    "#janela.resizable(True,False)\n",
    "#janela.state('zoombed')\n",
    "#janela.attributes('--alpha', 0.6)\n",
    "\n",
    "janela.mainloop()"
   ]
  },
  {
   "cell_type": "code",
   "execution_count": 13,
   "id": "ff3d339f-a6d4-4397-b1e6-c8abdc323e32",
   "metadata": {},
   "outputs": [],
   "source": [
    "# Exemplo - 2): Abrir outra janela ao clicar na janela principal.....\n",
    "import tkinter as tk\n",
    "\n",
    "def abrir_segunda_janela():\n",
    "    segunda_janela = tk.Toplevel()\n",
    "    segunda_janela.title(\"Segunda Janela.\")\n",
    "    segunda_janela.config(bg=\"#20EE70\")\n",
    "\n",
    "    # Tamanho da janela....\n",
    "    largura_janela = 300\n",
    "    altura_janela = 200\n",
    "\n",
    "    # Obter as dimensões da tela do monitor....\n",
    "    largura_tela = segunda_tela.winfo_screenwidth()\n",
    "    altura_tela = segunda_tela.winfo_screenwidth()\n",
    "\n",
    "    # Calcular as coordenadas para centralizar a janela 2....\n",
    "    x = (largura_tela - largura_tela) // 2\n",
    "    y = (altura_tela - altura_tela) // 2\n",
    "\n",
    "    # Definir a geometrica da janela 2\n",
    "    segunda_janela.geometry(f\"{largura_janela}x{altura_janela}+{x}+{y}\")\n",
    "\n",
    "# Criar janela principal....\n",
    "janela_principal = tk.Tk()\n",
    "janela_principal.title(\"Janela Principal.\")\n",
    "janela_principal.geometry(\"600x500\")\n",
    "\n",
    "# Configurar evento de clique na janela principal.....\n",
    "janela_principal.bind(\"<Button-1>\", lambda event: abrir_segunda_janela())\n",
    "\n",
    "# MainLoop...\n",
    "janela_principal.mainloop()"
   ]
  },
  {
   "cell_type": "code",
   "execution_count": null,
   "id": "b3a9dfdb-5e0d-4325-86ee-c0a8680c41bf",
   "metadata": {},
   "outputs": [],
   "source": []
  }
 ],
 "metadata": {
  "kernelspec": {
   "display_name": "Python 3 (ipykernel)",
   "language": "python",
   "name": "python3"
  },
  "language_info": {
   "codemirror_mode": {
    "name": "ipython",
    "version": 3
   },
   "file_extension": ".py",
   "mimetype": "text/x-python",
   "name": "python",
   "nbconvert_exporter": "python",
   "pygments_lexer": "ipython3",
   "version": "3.12.7"
  }
 },
 "nbformat": 4,
 "nbformat_minor": 5
}
