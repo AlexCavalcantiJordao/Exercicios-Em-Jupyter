{
 "cells": [
  {
   "cell_type": "code",
   "execution_count": 9,
   "id": "b20cb620-4fdf-4019-b708-5ece3814d6ca",
   "metadata": {},
   "outputs": [
    {
     "name": "stdout",
     "output_type": "stream",
     "text": [
      "Mo        MORANGO\n",
      "Ma            UVA\n",
      "U            MAÇÃ\n",
      "Pe        PÊSSEGO\n",
      "C     CARARAMBOLA\n",
      "Li         LICHIA\n",
      "Name: Frutas, dtype: object\n",
      "Número de frutas:  6\n"
     ]
    }
   ],
   "source": [
    "import pandas as pd\n",
    "\n",
    "#lista = ['Morango', 'Uva', 'Maçã', 'Pêssego', 'Cararambola', 'Lichia']\n",
    "\n",
    "indices = ['Mo', 'Ma', 'U', 'Pe', 'C', 'Li']\n",
    "s1 = pd.Series(lista, index=indices, name='Frutas')\n",
    "\n",
    "print(s1.str.upper())\n",
    "\n",
    "print(\"Número de frutas: \", s1.count())"
   ]
  },
  {
   "cell_type": "code",
   "execution_count": null,
   "id": "be8a7b34-617e-4f7f-9539-19cb31722934",
   "metadata": {},
   "outputs": [],
   "source": []
  }
 ],
 "metadata": {
  "kernelspec": {
   "display_name": "Python 3 (ipykernel)",
   "language": "python",
   "name": "python3"
  },
  "language_info": {
   "codemirror_mode": {
    "name": "ipython",
    "version": 3
   },
   "file_extension": ".py",
   "mimetype": "text/x-python",
   "name": "python",
   "nbconvert_exporter": "python",
   "pygments_lexer": "ipython3",
   "version": "3.12.7"
  }
 },
 "nbformat": 4,
 "nbformat_minor": 5
}
