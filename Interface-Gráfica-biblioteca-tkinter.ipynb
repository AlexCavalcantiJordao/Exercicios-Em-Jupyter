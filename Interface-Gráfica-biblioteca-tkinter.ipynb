{
 "cells": [
  {
   "cell_type": "code",
   "execution_count": null,
   "id": "db2fe14d-5a47-4b96-bb55-2939d6effad4",
   "metadata": {},
   "outputs": [],
   "source": [
    "import tkinter as tk\n",
    "\n",
    "# Instanciar a janela.....\n",
    "janela = tk.Tk()\n",
    "janela. title(\"Primeira App.\")\n",
    "janela.geometry(\"300x100+20+20\")\n",
    "\n",
    "# Criar e posicionar um label com a mensagem....\n",
    "lblMsg = tk.Label(janela, text = \"Olá, Pessoal.\")\n",
    "lblMsg.pack()\n",
    "\n",
    "# Exibir "
   ]
  }
 ],
 "metadata": {
  "kernelspec": {
   "display_name": "Python 3 (ipykernel)",
   "language": "python",
   "name": "python3"
  },
  "language_info": {
   "codemirror_mode": {
    "name": "ipython",
    "version": 3
   },
   "file_extension": ".py",
   "mimetype": "text/x-python",
   "name": "python",
   "nbconvert_exporter": "python",
   "pygments_lexer": "ipython3",
   "version": "3.12.7"
  }
 },
 "nbformat": 4,
 "nbformat_minor": 5
}
