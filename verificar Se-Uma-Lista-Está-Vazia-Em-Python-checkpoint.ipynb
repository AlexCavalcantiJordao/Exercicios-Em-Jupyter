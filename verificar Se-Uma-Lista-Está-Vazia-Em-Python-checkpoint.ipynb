{
 "cells": [
  {
   "cell_type": "code",
   "execution_count": 19,
   "id": "7e7c445a-9d3a-452b-90a2-b6efff096446",
   "metadata": {},
   "outputs": [
    {
     "name": "stdout",
     "output_type": "stream",
     "text": [
      "A lista não está vazia.\n"
     ]
    }
   ],
   "source": [
    "# Verificar se a lista está vazia\n",
    "\n",
    "lista_desejada = [12]\n",
    "lista_vazia = []\n",
    "\n",
    "\n",
    "# Técnica 02: Comparação com lista vazia\n",
    "if (lista_desejada == lista_vazia):\n",
    "    print(\"A lista está vazia.\")\n",
    "else:\n",
    "    print(\"A lista não está vazia.\")"
   ]
  },
  {
   "cell_type": "code",
   "execution_count": null,
   "id": "9dd6b2e4-2bf6-403c-9f7c-a55bbeae21ee",
   "metadata": {},
   "outputs": [],
   "source": []
  }
 ],
 "metadata": {
  "kernelspec": {
   "display_name": "Python 3 (ipykernel)",
   "language": "python",
   "name": "python3"
  },
  "language_info": {
   "codemirror_mode": {
    "name": "ipython",
    "version": 3
   },
   "file_extension": ".py",
   "mimetype": "text/x-python",
   "name": "python",
   "nbconvert_exporter": "python",
   "pygments_lexer": "ipython3",
   "version": "3.12.7"
  }
 },
 "nbformat": 4,
 "nbformat_minor": 5
}
