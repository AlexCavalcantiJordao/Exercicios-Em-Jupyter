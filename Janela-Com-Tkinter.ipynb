{
 "cells": [
  {
   "cell_type": "code",
   "execution_count": 3,
   "id": "cb1e36bf-c01e-4a82-b03f-e0bd1b952416",
   "metadata": {},
   "outputs": [],
   "source": [
    "# Labels com Tkinter....\n",
    "\n",
    "# Exemplos 01): Label simples.\n",
    "\n",
    "import tkinter as tk\n",
    "\n",
    "janela = tk.Tk()\n",
    "janela.geometry(\"300x200\")\n",
    "janela.title(\"Uso de Labels.\")\n",
    "\n",
    "# Criar um label....\n",
    "label = tk.Label(janela, text = \"Aula de Labels.\")\n",
    "\n",
    "# Empacotar o Label na janela.\n",
    "label.pack()\n",
    "\n",
    "# Loop principal....\n",
    "janela.mainloop()"
   ]
  },
  {
   "cell_type": "code",
   "execution_count": 7,
   "id": "82361df1-c329-4e60-b2f0-4577a7d55171",
   "metadata": {},
   "outputs": [],
   "source": [
    "# Exemplo 02)\n",
    "\n",
    "import tkinter as tk\n",
    "from tkinter import ttk\n",
    "\n",
    "janela = tk.Tk()\n",
    "janela.geometry(\"300x200\")\n",
    "janela.title(\"Uso de Labels.\")\n",
    "\n",
    "# Mostrar Label comum....\n",
    "label1 = ttk.Label(\n",
    "    janela,\n",
    "    text = \"Texto do Label 1.\",\n",
    "    font = (\"Helvetica\", 18)\n",
    ")\n",
    "label1.pack(ipadx = 10, ipady = 30)\n",
    "\n",
    "# Segundo Label....\n",
    "label2 = ttk.Label(\n",
    "    janela,\n",
    "    text = \"Texto do Label 2.\",\n",
    "    font = (\"Arial\", 20),\n",
    "    foreground = \"Blue\"\n",
    ")\n",
    "\n",
    "label2.pack(ipadx = 10, ipady = 60)\n",
    "\n",
    "janela.mainloop()"
   ]
  },
  {
   "cell_type": "code",
   "execution_count": 15,
   "id": "b0567ae2-68e3-4e59-a066-4846cd7f4cf4",
   "metadata": {},
   "outputs": [
    {
     "ename": "TclError",
     "evalue": "couldn't recognize data in image file \"images.png\"",
     "output_type": "error",
     "traceback": [
      "\u001b[1;31m---------------------------------------------------------------------------\u001b[0m",
      "\u001b[1;31mTclError\u001b[0m                                  Traceback (most recent call last)",
      "Cell \u001b[1;32mIn[15], line 22\u001b[0m\n\u001b[0;32m     19\u001b[0m janela\u001b[38;5;241m.\u001b[39mgeometry(\u001b[38;5;124m\"\u001b[39m\u001b[38;5;124m400x250\u001b[39m\u001b[38;5;124m\"\u001b[39m)\n\u001b[0;32m     21\u001b[0m \u001b[38;5;66;03m# Carregar a imagem....\u001b[39;00m\n\u001b[1;32m---> 22\u001b[0m imagem \u001b[38;5;241m=\u001b[39m PhotoImage(file \u001b[38;5;241m=\u001b[39m \u001b[38;5;124m\"\u001b[39m\u001b[38;5;124mimages.png\u001b[39m\u001b[38;5;124m\"\u001b[39m)\n\u001b[0;32m     24\u001b[0m \u001b[38;5;66;03m# Criar label e exibir a imagem....\u001b[39;00m\n\u001b[0;32m     25\u001b[0m label_imagem \u001b[38;5;241m=\u001b[39m ttk\u001b[38;5;241m.\u001b[39mLabel(janela, image \u001b[38;5;241m=\u001b[39m imagem)\n",
      "File \u001b[1;32m~\\anaconda3\\Lib\\tkinter\\__init__.py:4162\u001b[0m, in \u001b[0;36mPhotoImage.__init__\u001b[1;34m(self, name, cnf, master, **kw)\u001b[0m\n\u001b[0;32m   4157\u001b[0m \u001b[38;5;28;01mdef\u001b[39;00m \u001b[38;5;21m__init__\u001b[39m(\u001b[38;5;28mself\u001b[39m, name\u001b[38;5;241m=\u001b[39m\u001b[38;5;28;01mNone\u001b[39;00m, cnf\u001b[38;5;241m=\u001b[39m{}, master\u001b[38;5;241m=\u001b[39m\u001b[38;5;28;01mNone\u001b[39;00m, \u001b[38;5;241m*\u001b[39m\u001b[38;5;241m*\u001b[39mkw):\n\u001b[0;32m   4158\u001b[0m \u001b[38;5;250m    \u001b[39m\u001b[38;5;124;03m\"\"\"Create an image with NAME.\u001b[39;00m\n\u001b[0;32m   4159\u001b[0m \n\u001b[0;32m   4160\u001b[0m \u001b[38;5;124;03m    Valid resource names: data, format, file, gamma, height, palette,\u001b[39;00m\n\u001b[0;32m   4161\u001b[0m \u001b[38;5;124;03m    width.\"\"\"\u001b[39;00m\n\u001b[1;32m-> 4162\u001b[0m     Image\u001b[38;5;241m.\u001b[39m\u001b[38;5;21m__init__\u001b[39m(\u001b[38;5;28mself\u001b[39m, \u001b[38;5;124m'\u001b[39m\u001b[38;5;124mphoto\u001b[39m\u001b[38;5;124m'\u001b[39m, name, cnf, master, \u001b[38;5;241m*\u001b[39m\u001b[38;5;241m*\u001b[39mkw)\n",
      "File \u001b[1;32m~\\anaconda3\\Lib\\tkinter\\__init__.py:4109\u001b[0m, in \u001b[0;36mImage.__init__\u001b[1;34m(self, imgtype, name, cnf, master, **kw)\u001b[0m\n\u001b[0;32m   4107\u001b[0m \u001b[38;5;28;01mfor\u001b[39;00m k, v \u001b[38;5;129;01min\u001b[39;00m cnf\u001b[38;5;241m.\u001b[39mitems():\n\u001b[0;32m   4108\u001b[0m     options \u001b[38;5;241m=\u001b[39m options \u001b[38;5;241m+\u001b[39m (\u001b[38;5;124m'\u001b[39m\u001b[38;5;124m-\u001b[39m\u001b[38;5;124m'\u001b[39m\u001b[38;5;241m+\u001b[39mk, v)\n\u001b[1;32m-> 4109\u001b[0m \u001b[38;5;28mself\u001b[39m\u001b[38;5;241m.\u001b[39mtk\u001b[38;5;241m.\u001b[39mcall((\u001b[38;5;124m'\u001b[39m\u001b[38;5;124mimage\u001b[39m\u001b[38;5;124m'\u001b[39m, \u001b[38;5;124m'\u001b[39m\u001b[38;5;124mcreate\u001b[39m\u001b[38;5;124m'\u001b[39m, imgtype, name,) \u001b[38;5;241m+\u001b[39m options)\n\u001b[0;32m   4110\u001b[0m \u001b[38;5;28mself\u001b[39m\u001b[38;5;241m.\u001b[39mname \u001b[38;5;241m=\u001b[39m name\n",
      "\u001b[1;31mTclError\u001b[0m: couldn't recognize data in image file \"images.png\""
     ]
    }
   ],
   "source": [
    "# Exemplos 03): Carregar imagem no label...\n",
    "\n",
    "import tkinter as tk\n",
    "from tkinter import ttk, PhotoImage\n",
    "\n",
    "def centralizar_imagem(event):\n",
    "    largura_janela = janela.winfo.width()\n",
    "    altura_janela = janela.winfo.width()\n",
    "    largura_janela = imagem.width()\n",
    "    altura_janela = imagem.height()\n",
    "\n",
    "    posicao_x = (largura - largura_imagem) // 2\n",
    "    posicao_y = (altura - largura_imagem) // 2\n",
    "    label_imagem.place(x = posicao_x, y = posicao_y)\n",
    "\n",
    "# Criar janela....\n",
    "janela = tk.Tk()\n",
    "janela.title(\"Exibir imagem.\")\n",
    "janela.geometry(\"400x250\")\n",
    "\n",
    "# Carregar a imagem....\n",
    "imagem = PhotoImage(file = \"images.png\")\n",
    "\n",
    "# Criar label e exibir a imagem....\n",
    "label_imagem = ttk.Label(janela, image = imagem)\n",
    "\n",
    "# Centralizar imagem ao redimensionar janela....\n",
    "janela.bind(\"<Configure>\", centralizar_imagem)\n",
    "\n",
    "# Inserir a label na janela.....\n",
    "lbl_imagem.pack(pady = 20)\n",
    "\n",
    "# Adicionar Label comum...\n",
    "lbl_boson = ttk.Label(\n",
    "    janela,\n",
    "    text = \"Bóson Treinamento\",\n",
    "    foreground = \"purple\",\n",
    "    background = \"lightgreen\",\n",
    "    anchor = \"center\",\n",
    "    borderwidth = 3,\n",
    "    relief = \"groove\"\n",
    ")\n",
    "\n",
    "lbl_boson.pack(ipadx = 10, ipady = 20)\n",
    "\n",
    "# Loop principal.....\n",
    "janela.mainloop()"
   ]
  },
  {
   "cell_type": "code",
   "execution_count": null,
   "id": "8b8e13bf-e494-4437-86db-efe1016a606c",
   "metadata": {},
   "outputs": [],
   "source": []
  }
 ],
 "metadata": {
  "kernelspec": {
   "display_name": "Python 3 (ipykernel)",
   "language": "python",
   "name": "python3"
  },
  "language_info": {
   "codemirror_mode": {
    "name": "ipython",
    "version": 3
   },
   "file_extension": ".py",
   "mimetype": "text/x-python",
   "name": "python",
   "nbconvert_exporter": "python",
   "pygments_lexer": "ipython3",
   "version": "3.12.7"
  }
 },
 "nbformat": 4,
 "nbformat_minor": 5
}
