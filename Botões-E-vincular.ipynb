{
 "cells": [
  {
   "cell_type": "code",
   "execution_count": 15,
   "id": "77c09950-6e72-4960-87ef-8da43b954769",
   "metadata": {},
   "outputs": [],
   "source": [
    "# Widget Button....\n",
    "\n",
    "import tkinter as tk\n",
    "from datetime import date\n",
    "\n",
    "def mostrar_data():\n",
    "    hoje = date.today()\n",
    "    texto_data.set(hoje.strftime(\"%d/%m/%Y\"))\n",
    "\n",
    "# Criar a janela principal...\n",
    "janela = tk.Tk()\n",
    "janela.title(\"Mostrar a Data.\")\n",
    "janela.geometry(\"300x200\")\n",
    "\n",
    "texto_data = tk.StringVar()\n",
    "\n",
    "# Variavel para armazenar o texto do label:\n",
    "label_data = tk.Label(janela, textvariable = texto_data, font = (\"Arial\", 14))\n",
    "label_data.pack(pady = 20)\n",
    "\n",
    "# Criar botão....\n",
    "botao_data = tk.Button(janela, text = \"Mostrar Data\", command=mostrar_data, bg = \"blue\", fg = \"white\")\n",
    "botao_data.pack(pady = 10)\n",
    "\n",
    "# Mostrar a janela.....\n",
    "janela.mainloop()"
   ]
  },
  {
   "cell_type": "code",
   "execution_count": 17,
   "id": "fa02a64f-9e8d-4b4d-82bf-906caa8c66b1",
   "metadata": {},
   "outputs": [
    {
     "ename": "TclError",
     "evalue": "couldn't recognize data in image file \"images.png\"",
     "output_type": "error",
     "traceback": [
      "\u001b[1;31m---------------------------------------------------------------------------\u001b[0m",
      "\u001b[1;31mTclError\u001b[0m                                  Traceback (most recent call last)",
      "Cell \u001b[1;32mIn[17], line 15\u001b[0m\n\u001b[0;32m     11\u001b[0m     janela\u001b[38;5;241m.\u001b[39mdestroy()\n\u001b[0;32m     13\u001b[0m \u001b[38;5;66;03m# Criar botão com imagem....\u001b[39;00m\n\u001b[0;32m     14\u001b[0m \u001b[38;5;66;03m# Carregar uma imagem....\u001b[39;00m\n\u001b[1;32m---> 15\u001b[0m imagem \u001b[38;5;241m=\u001b[39m tk\u001b[38;5;241m.\u001b[39mPhotoImage(file\u001b[38;5;241m=\u001b[39m\u001b[38;5;124m\"\u001b[39m\u001b[38;5;124mimages.png\u001b[39m\u001b[38;5;124m\"\u001b[39m)\n\u001b[0;32m     17\u001b[0m \u001b[38;5;66;03m# Criar botão com a imagem carregada....\u001b[39;00m\n\u001b[0;32m     18\u001b[0m botao_imagem \u001b[38;5;241m=\u001b[39m tk\u001b[38;5;241m.\u001b[39mButton(janela, image\u001b[38;5;241m=\u001b[39mimagem, command\u001b[38;5;241m=\u001b[39mfechar_janela)\n",
      "File \u001b[1;32m~\\anaconda3\\Lib\\tkinter\\__init__.py:4162\u001b[0m, in \u001b[0;36mPhotoImage.__init__\u001b[1;34m(self, name, cnf, master, **kw)\u001b[0m\n\u001b[0;32m   4157\u001b[0m \u001b[38;5;28;01mdef\u001b[39;00m \u001b[38;5;21m__init__\u001b[39m(\u001b[38;5;28mself\u001b[39m, name\u001b[38;5;241m=\u001b[39m\u001b[38;5;28;01mNone\u001b[39;00m, cnf\u001b[38;5;241m=\u001b[39m{}, master\u001b[38;5;241m=\u001b[39m\u001b[38;5;28;01mNone\u001b[39;00m, \u001b[38;5;241m*\u001b[39m\u001b[38;5;241m*\u001b[39mkw):\n\u001b[0;32m   4158\u001b[0m \u001b[38;5;250m    \u001b[39m\u001b[38;5;124;03m\"\"\"Create an image with NAME.\u001b[39;00m\n\u001b[0;32m   4159\u001b[0m \n\u001b[0;32m   4160\u001b[0m \u001b[38;5;124;03m    Valid resource names: data, format, file, gamma, height, palette,\u001b[39;00m\n\u001b[0;32m   4161\u001b[0m \u001b[38;5;124;03m    width.\"\"\"\u001b[39;00m\n\u001b[1;32m-> 4162\u001b[0m     Image\u001b[38;5;241m.\u001b[39m\u001b[38;5;21m__init__\u001b[39m(\u001b[38;5;28mself\u001b[39m, \u001b[38;5;124m'\u001b[39m\u001b[38;5;124mphoto\u001b[39m\u001b[38;5;124m'\u001b[39m, name, cnf, master, \u001b[38;5;241m*\u001b[39m\u001b[38;5;241m*\u001b[39mkw)\n",
      "File \u001b[1;32m~\\anaconda3\\Lib\\tkinter\\__init__.py:4109\u001b[0m, in \u001b[0;36mImage.__init__\u001b[1;34m(self, imgtype, name, cnf, master, **kw)\u001b[0m\n\u001b[0;32m   4107\u001b[0m \u001b[38;5;28;01mfor\u001b[39;00m k, v \u001b[38;5;129;01min\u001b[39;00m cnf\u001b[38;5;241m.\u001b[39mitems():\n\u001b[0;32m   4108\u001b[0m     options \u001b[38;5;241m=\u001b[39m options \u001b[38;5;241m+\u001b[39m (\u001b[38;5;124m'\u001b[39m\u001b[38;5;124m-\u001b[39m\u001b[38;5;124m'\u001b[39m\u001b[38;5;241m+\u001b[39mk, v)\n\u001b[1;32m-> 4109\u001b[0m \u001b[38;5;28mself\u001b[39m\u001b[38;5;241m.\u001b[39mtk\u001b[38;5;241m.\u001b[39mcall((\u001b[38;5;124m'\u001b[39m\u001b[38;5;124mimage\u001b[39m\u001b[38;5;124m'\u001b[39m, \u001b[38;5;124m'\u001b[39m\u001b[38;5;124mcreate\u001b[39m\u001b[38;5;124m'\u001b[39m, imgtype, name,) \u001b[38;5;241m+\u001b[39m options)\n\u001b[0;32m   4110\u001b[0m \u001b[38;5;28mself\u001b[39m\u001b[38;5;241m.\u001b[39mname \u001b[38;5;241m=\u001b[39m name\n",
      "\u001b[1;31mTclError\u001b[0m: couldn't recognize data in image file \"images.png\""
     ]
    }
   ],
   "source": [
    "# Botão com Imagem.....\n",
    "\n",
    "import tkinter as tk\n",
    "\n",
    "# Criar a janela principal...\n",
    "janela = tk.Tk()\n",
    "janela.title(\"Botão com Imagem.\")\n",
    "janela.geometry(\"300x300\")\n",
    "\n",
    "def fechar_janela():\n",
    "    janela.destroy()\n",
    "\n",
    "# Criar botão com imagem....\n",
    "# Carregar uma imagem....\n",
    "imagem = tk.PhotoImage(file=\"images.png\")\n",
    "\n",
    "# Criar botão com a imagem carregada....\n",
    "botao_imagem = tk.Button(janela, image=imagem, command=fechar_janela)\n",
    "botao_imagem.pack(pady = 10)\n",
    "\n",
    "# Exibir....\n",
    "janela.mainloop()"
   ]
  },
  {
   "cell_type": "code",
   "execution_count": null,
   "id": "4218e48f-910e-479d-8896-78851b001988",
   "metadata": {},
   "outputs": [],
   "source": []
  }
 ],
 "metadata": {
  "kernelspec": {
   "display_name": "Python 3 (ipykernel)",
   "language": "python",
   "name": "python3"
  },
  "language_info": {
   "codemirror_mode": {
    "name": "ipython",
    "version": 3
   },
   "file_extension": ".py",
   "mimetype": "text/x-python",
   "name": "python",
   "nbconvert_exporter": "python",
   "pygments_lexer": "ipython3",
   "version": "3.12.7"
  }
 },
 "nbformat": 4,
 "nbformat_minor": 5
}
