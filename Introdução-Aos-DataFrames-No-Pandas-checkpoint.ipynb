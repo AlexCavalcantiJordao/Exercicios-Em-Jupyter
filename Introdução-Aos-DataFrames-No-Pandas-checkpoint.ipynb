{
 "cells": [
  {
   "cell_type": "code",
   "execution_count": 1,
   "id": "bcf4976d-dff8-4afd-b0b6-18fd05f22289",
   "metadata": {},
   "outputs": [
    {
     "name": "stdout",
     "output_type": "stream",
     "text": [
      "Requirement already satisfied: pandas in c:\\users\\alexf\\anaconda3\\lib\\site-packages (2.2.2)\n",
      "Requirement already satisfied: numpy>=1.26.0 in c:\\users\\alexf\\anaconda3\\lib\\site-packages (from pandas) (1.26.4)\n",
      "Requirement already satisfied: python-dateutil>=2.8.2 in c:\\users\\alexf\\anaconda3\\lib\\site-packages (from pandas) (2.9.0.post0)\n",
      "Requirement already satisfied: pytz>=2020.1 in c:\\users\\alexf\\anaconda3\\lib\\site-packages (from pandas) (2024.1)\n",
      "Requirement already satisfied: tzdata>=2022.7 in c:\\users\\alexf\\anaconda3\\lib\\site-packages (from pandas) (2023.3)\n",
      "Requirement already satisfied: six>=1.5 in c:\\users\\alexf\\anaconda3\\lib\\site-packages (from python-dateutil>=2.8.2->pandas) (1.16.0)\n"
     ]
    }
   ],
   "source": [
    "!pip  install pandas"
   ]
  },
  {
   "cell_type": "code",
   "execution_count": 3,
   "id": "abc9c255-1e13-462e-aa3f-47c7583cd613",
   "metadata": {},
   "outputs": [],
   "source": [
    "import pandas as pd"
   ]
  },
  {
   "cell_type": "code",
   "execution_count": 5,
   "id": "5f718bd4-4add-4ec2-8100-95528f9779d4",
   "metadata": {},
   "outputs": [
    {
     "name": "stdout",
     "output_type": "stream",
     "text": [
      "       Nome  Idade          Cidade\n",
      "0      Alex     45       São Paulo\n",
      "1       Ana     30  Rio de Janeiro\n",
      "2   Ricardo     22    Minas Gerais\n",
      "3  Daniella     28          Recife\n"
     ]
    }
   ],
   "source": [
    "# Dicionarios (DataSet)\n",
    "dados = {\n",
    "    'Nome' : ['Alex', 'Ana', 'Ricardo', 'Daniella'],\n",
    "    'Idade' : [45, 30, 22, 28],\n",
    "    'Cidade' : ['São Paulo', 'Rio de Janeiro', 'Minas Gerais', 'Recife']\n",
    "}\n",
    "\n",
    "# DadaFrame criado a partir do dicionário\n",
    "df = pd.DataFrame(dados)\n",
    "print(df)"
   ]
  },
  {
   "cell_type": "code",
   "execution_count": 7,
   "id": "3adde5ab-10ab-472d-9350-331e3fed42f8",
   "metadata": {},
   "outputs": [
    {
     "ename": "AttributeError",
     "evalue": "'dict' object has no attribute 'head'",
     "output_type": "error",
     "traceback": [
      "\u001b[1;31m---------------------------------------------------------------------------\u001b[0m",
      "\u001b[1;31mAttributeError\u001b[0m                            Traceback (most recent call last)",
      "Cell \u001b[1;32mIn[7], line 2\u001b[0m\n\u001b[0;32m      1\u001b[0m \u001b[38;5;66;03m# Os 5 primeiros da linha....\u001b[39;00m\n\u001b[1;32m----> 2\u001b[0m \u001b[38;5;28mprint\u001b[39m(dados\u001b[38;5;241m.\u001b[39mhead())\n\u001b[0;32m      3\u001b[0m \u001b[38;5;28mprint\u001b[39m()\n\u001b[0;32m      5\u001b[0m \u001b[38;5;66;03m# 5 últimos da linha....\u001b[39;00m\n",
      "\u001b[1;31mAttributeError\u001b[0m: 'dict' object has no attribute 'head'"
     ]
    }
   ],
   "source": [
    "# Os 5 primeiros da linha....\n",
    "print(dados.head())\n",
    "print()\n",
    "\n",
    "# 5 últimos da linha....\n",
    "print(dados.tail())"
   ]
  },
  {
   "cell_type": "code",
   "execution_count": null,
   "id": "64ab84ca-841c-4fd8-b2bc-0820827b1da5",
   "metadata": {},
   "outputs": [],
   "source": []
  }
 ],
 "metadata": {
  "kernelspec": {
   "display_name": "Python 3 (ipykernel)",
   "language": "python",
   "name": "python3"
  },
  "language_info": {
   "codemirror_mode": {
    "name": "ipython",
    "version": 3
   },
   "file_extension": ".py",
   "mimetype": "text/x-python",
   "name": "python",
   "nbconvert_exporter": "python",
   "pygments_lexer": "ipython3",
   "version": "3.12.7"
  }
 },
 "nbformat": 4,
 "nbformat_minor": 5
}
