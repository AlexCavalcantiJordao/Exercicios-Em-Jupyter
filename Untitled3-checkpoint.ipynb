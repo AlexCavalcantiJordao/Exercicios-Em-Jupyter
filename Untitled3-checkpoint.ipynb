{
 "cells": [
  {
   "cell_type": "code",
   "execution_count": 9,
   "id": "e3f60e69-e857-40e2-a425-b8d2f18841a4",
   "metadata": {},
   "outputs": [],
   "source": [
    "class cubo:\n",
    "    '''Classe para calcular o cubo de um número'''\n",
    "    def __init__(self, valor): # Método construtor da classe.\n",
    "        self.x = valor\n",
    "        print('Objeto criado.')\n",
    "    def calcula_cubo(self):\n",
    "        cubo = self.x * self.x * self.x\n",
    "        return 'Cubo calculado: ' + str(cubo)"
   ]
  },
  {
   "cell_type": "code",
   "execution_count": 3,
   "id": "dae6470c-d067-4251-a57e-bc2ac61a48f0",
   "metadata": {},
   "outputs": [
    {
     "name": "stdout",
     "output_type": "stream",
     "text": [
      "<class 'type'>\n"
     ]
    }
   ],
   "source": [
    "print(type(cubo))"
   ]
  },
  {
   "cell_type": "code",
   "execution_count": 27,
   "id": "e934820c-30b8-4994-987d-0a6e0dfccf45",
   "metadata": {},
   "outputs": [
    {
     "name": "stdout",
     "output_type": "stream",
     "text": [
      "Objeto criado.\n",
      "Cubo calculado: 729000000000000000\n"
     ]
    }
   ],
   "source": [
    "teste = cubo(900000)\n",
    "c = teste.calcula_cubo()\n",
    "print(c)"
   ]
  },
  {
   "cell_type": "code",
   "execution_count": 11,
   "id": "b5010278-d753-45b9-811d-7d84d7a5430c",
   "metadata": {},
   "outputs": [
    {
     "name": "stdin",
     "output_type": "stream",
     "text": [
      "Digite o nome de seu gato:  Kiki\n"
     ]
    },
    {
     "name": "stdout",
     "output_type": "stream",
     "text": [
      "O seu gatginho se chama Kiki\n"
     ]
    },
    {
     "name": "stdin",
     "output_type": "stream",
     "text": [
      "\n",
      "Qual o peso de seu gato, KG ?:  5\n"
     ]
    },
    {
     "name": "stdout",
     "output_type": "stream",
     "text": [
      "O animal está abaixo do peso.\n",
      "\n",
      "O gato  Kiki  está com 5.0 KG.\n",
      "Diminua a ração do felino.\n"
     ]
    }
   ],
   "source": [
    "# Método construtor\n",
    "\n",
    "class Gato:\n",
    "    '''Classe para trabalhar com gatos. '''\n",
    "    def __init__(self, nome):\n",
    "        '''Inicializa o objeto capturando o nome do animal. '''\n",
    "        self.nome = nome\n",
    "        print(\"O seu gatginho se chama\", self.nome)\n",
    "\n",
    "    def peso_gato(self, peso):\n",
    "        self.peso = peso\n",
    "        if(self.peso > 5.0):\n",
    "            print(\"Seu gato está gordinho.\")\n",
    "        elif(self.peso > 3.5):\n",
    "            print(\"Peso parece normal.\")\n",
    "        else:\n",
    "            print(\"O animal está abaixo do peso.\")\n",
    "\n",
    "    def _dieta_especial_gato(self):\n",
    "        self.msg = \"Tudo Ok.\"\n",
    "        if(self.peso < 3.5):\n",
    "            self.msg = \"Aumente a ração de felino.\"\n",
    "        if(self.peso):\n",
    "            self.msg = \"Diminua a ração do felino.\"\n",
    "        return self.msg\n",
    "\n",
    "    def dados_gato(self):\n",
    "        print(\"\\nO gato \", self.nome, \" está com\", self.peso, \"KG.\")\n",
    "        print(self._dieta_especial_gato())\n",
    "\n",
    "nome_gato = input(\"Digite o nome de seu gato: \")\n",
    "g1 = Gato(nome_gato)\n",
    "\n",
    "peso = float(input(\"\\nQual o peso de seu gato, KG ?: \"))\n",
    "g1.peso_gato(peso)\n",
    "\n",
    "g1.dados_gato()"
   ]
  },
  {
   "cell_type": "code",
   "execution_count": null,
   "id": "ea3c656b-5112-4334-824d-8b6b2d446533",
   "metadata": {},
   "outputs": [],
   "source": []
  }
 ],
 "metadata": {
  "kernelspec": {
   "display_name": "Python 3 (ipykernel)",
   "language": "python",
   "name": "python3"
  },
  "language_info": {
   "codemirror_mode": {
    "name": "ipython",
    "version": 3
   },
   "file_extension": ".py",
   "mimetype": "text/x-python",
   "name": "python",
   "nbconvert_exporter": "python",
   "pygments_lexer": "ipython3",
   "version": "3.12.7"
  }
 },
 "nbformat": 4,
 "nbformat_minor": 5
}
