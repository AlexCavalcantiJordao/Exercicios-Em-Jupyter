{
 "cells": [
  {
   "cell_type": "code",
   "execution_count": 3,
   "id": "5db01200-65fc-4e51-9aa7-e74e50769e19",
   "metadata": {},
   "outputs": [
    {
     "name": "stdout",
     "output_type": "stream",
     "text": [
      "Valor do objeto:  10\n"
     ]
    },
    {
     "name": "stdin",
     "output_type": "stream",
     "text": [
      "Digite um valor numérico:   22\n"
     ]
    },
    {
     "name": "stdout",
     "output_type": "stream",
     "text": [
      "Valor do objeto após atribuição:  22\n"
     ]
    }
   ],
   "source": [
    "# Getters--Setters\n",
    "\n",
    "class Teste():\n",
    "    \n",
    "    def __init__(self, valor):\n",
    "        self.x = valor\n",
    "        \n",
    "    def get_valor(self):\n",
    "        '''Método getter para retornar o valor do atributo....'''\n",
    "        return self.x\n",
    "\n",
    "    def set_valor(self, valor):\n",
    "        '''Método setter para atribuir um novo valor ao atributo....'''\n",
    "        self.x = valor\n",
    "\n",
    "teste = Teste(10)\n",
    "print(\"Valor do objeto: \", teste.get_valor())\n",
    "\n",
    "val = int(input(\"Digite um valor numérico:  \"))\n",
    "teste.set_valor(val)\n",
    "print(\"Valor do objeto após atribuição: \", teste.get_valor())"
   ]
  },
  {
   "cell_type": "code",
   "execution_count": null,
   "id": "f4fb78c0-81eb-48b2-ac38-c68bfb53d836",
   "metadata": {},
   "outputs": [],
   "source": []
  }
 ],
 "metadata": {
  "kernelspec": {
   "display_name": "Python 3 (ipykernel)",
   "language": "python",
   "name": "python3"
  },
  "language_info": {
   "codemirror_mode": {
    "name": "ipython",
    "version": 3
   },
   "file_extension": ".py",
   "mimetype": "text/x-python",
   "name": "python",
   "nbconvert_exporter": "python",
   "pygments_lexer": "ipython3",
   "version": "3.12.7"
  }
 },
 "nbformat": 4,
 "nbformat_minor": 5
}
