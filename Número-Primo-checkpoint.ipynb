{
 "cells": [
  {
   "cell_type": "code",
   "execution_count": 12,
   "id": "9e4efb33-8a40-45d3-9c97-67cf477cc65e",
   "metadata": {},
   "outputs": [
    {
     "name": "stdin",
     "output_type": "stream",
     "text": [
      "Entre com um número:  88\n"
     ]
    },
    {
     "name": "stdout",
     "output_type": "stream",
     "text": [
      "88 é primo ?: Número não é primo.\n"
     ]
    }
   ],
   "source": [
    "def ePrimo(n):\n",
    "    # Número iguais ou menores que 1 não são primos\n",
    "    if(n <= 1):\n",
    "        return \"Número não é primo.\"\n",
    "\n",
    "    # Verificar de 2 a raiz de n\n",
    "    import math\n",
    "    for i in range(2, int(math.sqrt(n) + 1)):\n",
    "        if(n % i == 0):\n",
    "            return \"Número não é primo.\"\n",
    "        return \"Número é primo.\"\n",
    "\n",
    "num = int(input(\"Entre com um número: \"))\n",
    "res = ePrimo(num)\n",
    "print(f\"{num} é primo ?: {res}\")"
   ]
  },
  {
   "cell_type": "code",
   "execution_count": null,
   "id": "5664005c-2019-4ccc-9b59-d12a784ff031",
   "metadata": {},
   "outputs": [],
   "source": []
  }
 ],
 "metadata": {
  "kernelspec": {
   "display_name": "Python 3 (ipykernel)",
   "language": "python",
   "name": "python3"
  },
  "language_info": {
   "codemirror_mode": {
    "name": "ipython",
    "version": 3
   },
   "file_extension": ".py",
   "mimetype": "text/x-python",
   "name": "python",
   "nbconvert_exporter": "python",
   "pygments_lexer": "ipython3",
   "version": "3.12.7"
  }
 },
 "nbformat": 4,
 "nbformat_minor": 5
}
